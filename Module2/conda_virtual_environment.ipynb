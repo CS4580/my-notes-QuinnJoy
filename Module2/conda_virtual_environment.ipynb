{
 "cells": [
  {
   "cell_type": "markdown",
   "metadata": {},
   "source": [
    "# Conda\n",
    "\n",
    "Create and manage your virtual environment\n",
    "\n",
    "To create virtual env. with a specific `python` version.\n",
    "\n",
    "```\n",
    "conda create -n cs_4580 python=3.10\n",
    "```"
   ]
  },
  {
   "cell_type": "markdown",
   "metadata": {},
   "source": []
  },
  {
   "cell_type": "markdown",
   "metadata": {},
   "source": [
    "To activate your environment run:\n",
    "\n",
    "Initialize your system first (sometimes needed)\n",
    "```\n",
    "conda init\n",
    "\n",
    "conda activate cs4580\n",
    "# or \n",
    "activate cs4580\n",
    "```"
   ]
  },
  {
   "cell_type": "markdown",
   "metadata": {},
   "source": [
    "Get the list of current packages installed\n",
    "\n",
    "``` \n",
    "conda env list\n",
    "```"
   ]
  },
  {
   "cell_type": "markdown",
   "metadata": {},
   "source": []
  },
  {
   "cell_type": "markdown",
   "metadata": {},
   "source": [
    "# Numpy \n",
    "\n",
    "### Features \n",
    "- High performance\n",
    "- Vectorization\n",
    "- Broadcasting\n",
    "- Interoperability"
   ]
  },
  {
   "cell_type": "markdown",
   "metadata": {},
   "source": [
    "### Comparison with other alternatives \n",
    "\n",
    "#### Python List vs Numpy Arrays \n",
    "- Elements of different types `vs` same type\n",
    "- Variable size nesting `vs` same size\n",
    "- No operations at the list level `vs` operations allowed at the array level\n",
    "- Uses a lot of memory `vs` less memory"
   ]
  },
  {
   "cell_type": "markdown",
   "metadata": {},
   "source": []
  }
 ],
 "metadata": {
  "kernelspec": {
   "display_name": "base",
   "language": "python",
   "name": "python3"
  },
  "language_info": {
   "name": "python",
   "version": "3.12.4"
  }
 },
 "nbformat": 4,
 "nbformat_minor": 2
}
